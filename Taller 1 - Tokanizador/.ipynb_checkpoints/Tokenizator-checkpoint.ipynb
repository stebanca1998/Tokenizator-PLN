{
 "cells": [
  {
   "cell_type": "code",
   "execution_count": 41,
   "metadata": {},
   "outputs": [
    {
     "data": {
      "text/plain": [
       "True"
      ]
     },
     "execution_count": 41,
     "metadata": {},
     "output_type": "execute_result"
    }
   ],
   "source": [
    "Steban Cadena Giraldo – 1670129 \n",
    "Daniel Alejandro Diaz Ocampo – 1629338 "
   ]
  },
  {
   "cell_type": "code",
   "execution_count": null,
   "metadata": {},
   "outputs": [],
   "source": [
    "#######################MODULES######################\n",
    "import sentencepiece as spm\n",
    "\n",
    "from tkinter import *\n",
    "from tkinter.ttk import *\n",
    "\n",
    "#######################MODELS#######################\n",
    "# train sentencepiece model from `botchan.txt` and makes `m.model` and `m.vocab`\n",
    "# `m.vocab` is just a reference. not used in the segmentation.\n",
    "spm.SentencePieceTrainer.train('--input=botchan.txt --model_prefix=m --user_defined_symbols=<sep>,<cls> --vocab_size=2000')\n",
    "\n",
    "spm.SentencePieceTrainer.train('--input=tweets_clean.txt --model_prefix=m_word --model_type=word --user_defined_symbols=<sep>,<cls> --vocab_size=2000')"
   ]
  },
  {
   "cell_type": "code",
   "execution_count": 42,
   "metadata": {},
   "outputs": [],
   "source": [
    "###################################################\n",
    "def tokenizer():\n",
    "    select = combo.get()\n",
    "    text = inputText.get(\"1.0\",END)\n",
    "    sp = spm.SentencePieceProcessor()  \n",
    "\n",
    "    if(select==\"Palabras (Español)\"):\n",
    "        sp.load('m_word.model')\n",
    "        \n",
    "    else:\n",
    "        sp.load('m.model')\n",
    "        \n",
    "        sp.piece_to_id('<sep>')\n",
    "        sp.piece_to_id('<cls>')\n",
    "\n",
    "    res = sp.encode_as_pieces(text)\n",
    "    tokens=\"\"\n",
    "    \n",
    "    for i in range(0,len(res)):\n",
    "        tokens = tokens + res[i] + \"\\n\"\n",
    "    \n",
    "    outputText.configure(state='normal')\n",
    "    outputText.delete('1.0', END)\n",
    "    outputText.insert(\"insert\", tokens)\n",
    "    outputText.configure(state='disabled')\n"
   ]
  },
  {
   "cell_type": "code",
   "execution_count": 44,
   "metadata": {},
   "outputs": [],
   "source": [
    "#######################GUI#########################\n",
    "\n",
    "window = Tk()\n",
    "\n",
    "window.title(\"Tokenizador - Procesamiento del Lenguaje Natural\")\n",
    "\n",
    "window.geometry('500x500')\n",
    "\n",
    "inputText = Text(window,height=14, width=25)\n",
    "inputText.grid(column=0, row=0)\n",
    "\n",
    "outputText = Text(window,height=14, width=25, state='disabled')\n",
    "outputText.grid(column=0, row=1)\n",
    "\n",
    "btn = Button(window, text=\"Aplicar\",command=tokenizer)\n",
    "btn.grid(column=2, row=1)\n",
    "\n",
    "combo = Combobox(window)\n",
    "combo['values']= (\"Personalizado (Inglés) \",\"Palabras (Español)\")\n",
    "combo.current(0) #set the selected item\n",
    "combo.grid(column=2, row=0)\n",
    "\n",
    "window.mainloop()"
   ]
  }
 ],
 "metadata": {
  "kernelspec": {
   "display_name": "Python 3",
   "language": "python",
   "name": "python3"
  },
  "language_info": {
   "codemirror_mode": {
    "name": "ipython",
    "version": 3
   },
   "file_extension": ".py",
   "mimetype": "text/x-python",
   "name": "python",
   "nbconvert_exporter": "python",
   "pygments_lexer": "ipython3",
   "version": "3.6.5"
  }
 },
 "nbformat": 4,
 "nbformat_minor": 2
}
